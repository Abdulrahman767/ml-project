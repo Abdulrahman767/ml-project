{
 "cells": [
  {
   "cell_type": "code",
   "execution_count": 1,
   "metadata": {
    "_cell_guid": "b1076dfc-b9ad-4769-8c92-a6c4dae69d19",
    "_uuid": "8f2839f25d086af736a60e9eeb907d3b93b6e0e5"
   },
   "outputs": [],
   "source": [
    "import os\n",
    "import numpy as np\n",
    "import matplotlib.pyplot as plt\n",
    "from PIL import Image  \n",
    "from sklearn.model_selection import train_test_split\n",
    "from sklearn.preprocessing import LabelBinarizer, StandardScaler\n",
    "from sklearn.linear_model import LogisticRegression\n",
    "from sklearn.neighbors import KNeighborsClassifier\n",
    "from sklearn.metrics import confusion_matrix, classification_report, roc_curve, auc, accuracy_score\n",
    "import seaborn as sns\n",
    "import warnings\n",
    "warnings.filterwarnings(\"ignore\")"
   ]
  },
  {
   "cell_type": "code",
   "execution_count": 2,
   "metadata": {},
   "outputs": [],
   "source": [
    "dataset_dir = r\"C:\\Users\\ADMIN\\Desktop\\github projects\\ml-project\\PlantVillage\"\n",
    "classes = ['Tomato_healthy', 'Tomato_Early_blight', 'Tomato_Late_blight', 'Pepper__bell___healthy']"
   ]
  },
  {
   "cell_type": "code",
   "execution_count": 3,
   "metadata": {},
   "outputs": [],
   "source": [
    "image_size = (128, 128)  \n",
    "k_values = [3, 5, 7]  "
   ]
  },
  {
   "cell_type": "code",
   "execution_count": 4,
   "metadata": {},
   "outputs": [],
   "source": [
    "def load_images(dataset_dir, classes, image_size):\n",
    "    images, labels = [], []\n",
    "    for class_name in classes:\n",
    "        class_dir = os.path.join(dataset_dir, class_name)\n",
    "        for file in os.listdir(class_dir):\n",
    "            img_path = os.path.join(class_dir, file)\n",
    "            try:\n",
    "                with Image.open(img_path) as img:\n",
    "                    img = img.resize(image_size).convert('RGB')  \n",
    "                    img_array = np.asarray(img, dtype=np.float32) / 255.0 \n",
    "                    images.append(img_array)\n",
    "                    labels.append(class_name)\n",
    "            except Exception as e:\n",
    "                print(f\"Error loading {img_path}: {e}\")\n",
    "    return np.array(images), np.array(labels)\n"
   ]
  },
  {
   "cell_type": "code",
   "execution_count": 5,
   "metadata": {},
   "outputs": [],
   "source": [
    "images, labels = load_images(dataset_dir, classes, image_size)\n",
    "X = images.reshape(images.shape[0], -1)  \n",
    "lb = LabelBinarizer()\n",
    "y = lb.fit_transform(labels)"
   ]
  },
  {
   "cell_type": "code",
   "execution_count": 6,
   "metadata": {},
   "outputs": [],
   "source": [
    "X_train, X_test, y_train, y_test = train_test_split(X, y, test_size=0.2, random_state=42)"
   ]
  },
  {
   "cell_type": "code",
   "execution_count": 7,
   "metadata": {},
   "outputs": [],
   "source": [
    "#scaler = StandardScaler()\n",
    "#X_train = scaler.fit_transform(X_train)  \n",
    "#X_test = scaler.transform(X_test)"
   ]
  },
  {
   "cell_type": "code",
   "execution_count": null,
   "metadata": {},
   "outputs": [
    {
     "name": "stdout",
     "output_type": "stream",
     "text": [
      "Max Iterations = 10, Accuracy = 0.67\n",
      "                        precision    recall  f1-score   support\n",
      "\n",
      "        Tomato_healthy       0.68      0.86      0.76       298\n",
      "   Tomato_Early_blight       0.47      0.38      0.42       185\n",
      "    Tomato_Late_blight       0.61      0.57      0.59       368\n",
      "Pepper__bell___healthy       0.80      0.75      0.78       345\n",
      "\n",
      "              accuracy                           0.67      1196\n",
      "             macro avg       0.64      0.64      0.64      1196\n",
      "          weighted avg       0.66      0.67      0.66      1196\n",
      "\n",
      "Max Iterations = 50, Accuracy = 0.79\n",
      "                        precision    recall  f1-score   support\n",
      "\n",
      "        Tomato_healthy       0.83      0.91      0.87       298\n",
      "   Tomato_Early_blight       0.61      0.54      0.57       185\n",
      "    Tomato_Late_blight       0.75      0.72      0.74       368\n",
      "Pepper__bell___healthy       0.88      0.91      0.89       345\n",
      "\n",
      "              accuracy                           0.79      1196\n",
      "             macro avg       0.77      0.77      0.77      1196\n",
      "          weighted avg       0.79      0.79      0.79      1196\n",
      "\n",
      "Max Iterations = 100, Accuracy = 0.80\n",
      "                        precision    recall  f1-score   support\n",
      "\n",
      "        Tomato_healthy       0.85      0.92      0.89       298\n",
      "   Tomato_Early_blight       0.65      0.57      0.61       185\n",
      "    Tomato_Late_blight       0.75      0.73      0.74       368\n",
      "Pepper__bell___healthy       0.86      0.89      0.87       345\n",
      "\n",
      "              accuracy                           0.80      1196\n",
      "             macro avg       0.78      0.78      0.78      1196\n",
      "          weighted avg       0.79      0.80      0.79      1196\n",
      "\n",
      "Max Iterations = 200, Accuracy = 0.79\n",
      "                        precision    recall  f1-score   support\n",
      "\n",
      "        Tomato_healthy       0.86      0.89      0.88       298\n",
      "   Tomato_Early_blight       0.62      0.64      0.63       185\n",
      "    Tomato_Late_blight       0.74      0.72      0.73       368\n",
      "Pepper__bell___healthy       0.87      0.86      0.86       345\n",
      "\n",
      "              accuracy                           0.79      1196\n",
      "             macro avg       0.77      0.78      0.77      1196\n",
      "          weighted avg       0.79      0.79      0.79      1196\n",
      "\n",
      "Max Iterations = 500, Accuracy = 0.80\n",
      "                        precision    recall  f1-score   support\n",
      "\n",
      "        Tomato_healthy       0.88      0.91      0.90       298\n",
      "   Tomato_Early_blight       0.63      0.63      0.63       185\n",
      "    Tomato_Late_blight       0.74      0.73      0.73       368\n",
      "Pepper__bell___healthy       0.87      0.86      0.87       345\n",
      "\n",
      "              accuracy                           0.80      1196\n",
      "             macro avg       0.78      0.78      0.78      1196\n",
      "          weighted avg       0.80      0.80      0.80      1196\n",
      "\n"
     ]
    }
   ],
   "source": [
    "losses = []\n",
    "accuracies = []\n",
    "iterations = [10, 50, 100, 200, 500, 1000]\n",
    "\n",
    "for max_iter in iterations:\n",
    "    lr_model = LogisticRegression(max_iter=max_iter, solver='lbfgs', random_state=42)\n",
    "    lr_model.fit(X_train, np.argmax(y_train, axis=1))\n",
    "    y_pred_lr = lr_model.predict(X_test)\n",
    "    \n",
    "    acc = accuracy_score(np.argmax(y_test, axis=1), y_pred_lr)\n",
    "    losses.append(lr_model.n_iter_[0])  # Approximate \"loss\"\n",
    "    accuracies.append(acc)\n",
    "    \n",
    "    print(f\"Max Iterations = {max_iter}, Accuracy = {acc:.2f}\")\n",
    "    print(classification_report(np.argmax(y_test, axis=1), y_pred_lr, target_names=classes))\n"
   ]
  },
  {
   "cell_type": "code",
   "execution_count": null,
   "metadata": {},
   "outputs": [],
   "source": [
    "plt.figure()\n",
    "plt.plot(iterations, losses, marker='o', label='Loss (approximation)')\n",
    "plt.title(\"Loss Curve (Logistic Regression)\")\n",
    "plt.xlabel(\"Iterations\")\n",
    "plt.ylabel(\"Loss (number of iterations)\")\n",
    "plt.legend()\n",
    "plt.show()"
   ]
  },
  {
   "cell_type": "code",
   "execution_count": null,
   "metadata": {},
   "outputs": [],
   "source": [
    "plt.figure()\n",
    "plt.plot(iterations, accuracies, marker='o', label='Accuracy')\n",
    "plt.title(\"Accuracy Curve (Logistic Regression)\")\n",
    "plt.xlabel(\"Iterations\")\n",
    "plt.ylabel(\"Accuracy\")\n",
    "plt.legend()\n",
    "plt.show()"
   ]
  },
  {
   "cell_type": "code",
   "execution_count": null,
   "metadata": {},
   "outputs": [],
   "source": [
    "y_pred_lr = lr_model.predict(X_test)\n",
    "conf_matrix = confusion_matrix(np.argmax(y_test, axis=1), y_pred_lr)\n",
    "sns.heatmap(conf_matrix, annot=True, fmt='d', xticklabels=classes, yticklabels=classes)\n",
    "plt.title(\"Confusion Matrix (Logistic Regression)\")\n",
    "plt.show()"
   ]
  },
  {
   "cell_type": "code",
   "execution_count": null,
   "metadata": {},
   "outputs": [],
   "source": [
    "y_score = lr_model.predict_proba(X_test)\n",
    "fpr, tpr, _ = roc_curve(y_test.ravel(), y_score.ravel())\n",
    "roc_auc = auc(fpr, tpr)\n",
    "\n",
    "plt.figure()\n",
    "plt.plot(fpr, tpr, color='blue', lw=2, label=f'Logistic Regression (AUC = {roc_auc:.2f})')\n",
    "plt.plot([0, 1], [0, 1], color='gray', linestyle='--')\n",
    "plt.title(\"ROC Curve (Logistic Regression)\")\n",
    "plt.xlabel(\"False Positive Rate\")\n",
    "plt.ylabel(\"True Positive Rate\")\n",
    "plt.legend(loc=\"lower right\")\n",
    "plt.show()"
   ]
  },
  {
   "cell_type": "code",
   "execution_count": null,
   "metadata": {},
   "outputs": [],
   "source": [
    "for k in k_values:\n",
    "    knn_model = KNeighborsClassifier(n_neighbors=k)\n",
    "    knn_model.fit(X_train, np.argmax(y_train, axis=1))\n",
    "    y_pred_knn = knn_model.predict(X_test)\n",
    "    \n",
    "    acc_knn = accuracy_score(np.argmax(y_test, axis=1), y_pred_knn)\n",
    "    print(f\"KNN (k={k}) Accuracy: {acc_knn:.2f}\")\n",
    "    print(classification_report(np.argmax(y_test, axis=1), y_pred_knn, target_names=classes))\n",
    "    \n",
    "    # Confusion Matrix for KNN\n",
    "    conf_matrix_knn = confusion_matrix(np.argmax(y_test, axis=1), y_pred_knn)\n",
    "    sns.heatmap(conf_matrix_knn, annot=True, fmt='d', xticklabels=classes, yticklabels=classes)\n",
    "    plt.title(f\"Confusion Matrix (KNN, k={k})\")\n",
    "    plt.show()\n",
    "\n",
    "    # ROC and AUC for KNN\n",
    "    y_score_knn = knn_model.predict_proba(X_test)\n",
    "    fpr, tpr, _ = roc_curve(y_test.ravel(), y_score_knn.ravel())\n",
    "    roc_auc_knn = auc(fpr, tpr)\n",
    "\n",
    "    plt.figure()\n",
    "    plt.plot(fpr, tpr, lw=2, label=f'KNN (k={k}) AUC = {roc_auc_knn:.2f}')\n",
    "    plt.plot([0, 1], [0, 1], color='gray', linestyle='--')\n",
    "    plt.title(f\"ROC Curve (KNN, k={k})\")\n",
    "    plt.xlabel(\"False Positive Rate\")\n",
    "    plt.ylabel(\"True Positive Rate\")\n",
    "    plt.legend(loc=\"lower right\")\n",
    "    plt.show()"
   ]
  }
 ],
 "metadata": {
  "kaggle": {
   "accelerator": "nvidiaTeslaT4",
   "dataSources": [
    {
     "datasetId": 70909,
     "sourceId": 150545,
     "sourceType": "datasetVersion"
    }
   ],
   "dockerImageVersionId": 30805,
   "isGpuEnabled": true,
   "isInternetEnabled": true,
   "language": "python",
   "sourceType": "notebook"
  },
  "kernelspec": {
   "display_name": "Python 3 (ipykernel)",
   "language": "python",
   "name": "python3"
  },
  "language_info": {
   "codemirror_mode": {
    "name": "ipython",
    "version": 3
   },
   "file_extension": ".py",
   "mimetype": "text/x-python",
   "name": "python",
   "nbconvert_exporter": "python",
   "pygments_lexer": "ipython3",
   "version": "3.9.18"
  },
  "widgets": {
   "application/vnd.jupyter.widget-state+json": {
    "state": {},
    "version_major": 2,
    "version_minor": 0
   }
  }
 },
 "nbformat": 4,
 "nbformat_minor": 4
}
